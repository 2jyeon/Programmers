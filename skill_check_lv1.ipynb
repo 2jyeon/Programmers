{
 "cells": [
  {
   "cell_type": "markdown",
   "metadata": {},
   "source": [
    "# 프로그래머스 스킬 레벨 체크 1"
   ]
  },
  {
   "cell_type": "markdown",
   "metadata": {},
   "source": [
    "## 문제1"
   ]
  },
  {
   "cell_type": "code",
   "execution_count": null,
   "metadata": {},
   "outputs": [],
   "source": [
    "def solution(n):\n",
    "    print(n)\n",
    "\n",
    "    tmp = list(map(int, str(n)))\n",
    "    answer = 0\n",
    "    for i in tmp:\n",
    "        print(i)\n",
    "        answer += i\n",
    "\n",
    "    print(answer)\n",
    "\n",
    "    return answer"
   ]
  },
  {
   "cell_type": "markdown",
   "metadata": {},
   "source": [
    "## 문제2"
   ]
  },
  {
   "cell_type": "code",
   "execution_count": null,
   "metadata": {},
   "outputs": [],
   "source": [
    "def solution(x):\n",
    "    print(x)\n",
    "\n",
    "    tmp = list(map(int, str(x)))    \n",
    "    print(tmp)\n",
    "\n",
    "    sums = 0\n",
    "    for i in tmp:\n",
    "        sums += i\n",
    "\n",
    "    if (x % sums) == 0:\n",
    "        return True\n",
    "    else:\n",
    "        return False"
   ]
  }
 ],
 "metadata": {
  "language_info": {
   "name": "python"
  },
  "orig_nbformat": 4
 },
 "nbformat": 4,
 "nbformat_minor": 2
}
