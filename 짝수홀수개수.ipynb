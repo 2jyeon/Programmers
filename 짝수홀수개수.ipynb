{
  "nbformat": 4,
  "nbformat_minor": 0,
  "metadata": {
    "colab": {
      "provenance": [],
      "authorship_tag": "ABX9TyPp62vgjOyB5Sph6cCuGwkd",
      "include_colab_link": true
    },
    "kernelspec": {
      "name": "python3",
      "display_name": "Python 3"
    },
    "language_info": {
      "name": "python"
    }
  },
  "cells": [
    {
      "cell_type": "markdown",
      "metadata": {
        "id": "view-in-github",
        "colab_type": "text"
      },
      "source": [
        "<a href=\"https://colab.research.google.com/github/2jyeon/Programmers/blob/main/%EC%A7%9D%EC%88%98%ED%99%80%EC%88%98%EA%B0%9C%EC%88%98.ipynb\" target=\"_parent\"><img src=\"https://colab.research.google.com/assets/colab-badge.svg\" alt=\"Open In Colab\"/></a>"
      ]
    },
    {
      "cell_type": "markdown",
      "source": [
        "## 문제 설명\n",
        "정수가 담긴 리스트 num_list가 주어질 때, num_list의 원소 중 짝수와 홀수의 개수를 담은 배열을 return 하도록 solution 함수를 완성해보세요.\n",
        "\n",
        "제한사항  \n",
        "1 ≤ num_list의 길이 ≤ 100  \n",
        "0 ≤ num_list의 원소 ≤ 1,000\n"
      ],
      "metadata": {
        "id": "pl8kuq3GVctQ"
      }
    },
    {
      "cell_type": "code",
      "source": [
        "# 풀이 1\n",
        "def solution(num_list):\n",
        "    even_num = 0\n",
        "    for num in num_list:\n",
        "        if num % 2 == 0:\n",
        "            even_num += 1\n",
        "        else:\n",
        "            continue\n",
        "    return [even_num, len(num_list)-even_num]\n",
        "\n",
        "# 답은 나오긴 하는데, 반복문은 배열이 길수록 시간이 오래걸릴 것 같아서 다른 풀이를 생각해봄"
      ],
      "metadata": {
        "id": "X4RRgK4BVc8W"
      },
      "execution_count": 1,
      "outputs": []
    },
    {
      "cell_type": "code",
      "source": [
        "# 풀이2 (최종제출)\n",
        "def solution(num_list):\n",
        "    answer = [num%2 for num in num_list]\n",
        "    return [answer.count(0), answer.count(1)]\n",
        "\n",
        "# idea\n",
        "# num_list 각 원소에 대해 2로 나눈 나머지를 구한 리스트를 만든 후, 0의 개수와 1의 개수를 각각 짝수의 개수, 홀수의 개수로 return한다."
      ],
      "metadata": {
        "id": "RIOrqd6pWaEi"
      },
      "execution_count": null,
      "outputs": []
    },
    {
      "cell_type": "code",
      "source": [
        "# 다른 사람 풀이\n",
        "def solution(num_list):\n",
        "    answer = [0,0]\n",
        "    for n in num_list:\n",
        "        answer[n%2]+=1\n",
        "    return answer\n",
        "\n",
        "# idea\n",
        "# [0, 0]이라는 길이 2짜리 리스트 answer를 만들어두고,\n",
        "# 반복문으로 각 원소의 나머지가 0이라면 answer의 0번째 원소에 1을 더해주고, 나머지가 1이라면 answer의 1번째 원소에 1을 더해준다."
      ],
      "metadata": {
        "id": "cYcqALD6XUvK"
      },
      "execution_count": null,
      "outputs": []
    }
  ]
}