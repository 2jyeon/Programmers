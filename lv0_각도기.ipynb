{
 "cells": [
  {
   "cell_type": "markdown",
   "metadata": {},
   "source": [
    "## 문제 설명\n",
    "각에서 0도 초과 90도 미만은 예각, 90도는 직각, 90도 초과 180도 미만은 둔각 180도는 평각으로 분류합니다. 각 angle이 매개변수로 주어질 때 예각일 때 1, 직각일 때 2, 둔각일 때 3, 평각일 때 4를 return하도록 solution 함수를 완성해주세요.\n",
    "\n",
    "예각 : 0 < angle < 90  \n",
    "직각 : angle = 90  \n",
    "둔각 : 90 < angle < 180  \n",
    "평각 : angle = 180 \n",
    "   \n",
    "제한사항  \n",
    "0 < angle ≤ 180\n",
    "angle은 정수입니다."
   ]
  },
  {
   "cell_type": "code",
   "execution_count": null,
   "metadata": {},
   "outputs": [],
   "source": [
    "def solution(angle):\n",
    "    if 0 < angle < 90:\n",
    "        answer = 1\n",
    "    elif angle == 90:\n",
    "        answer = 2\n",
    "    elif 90 < angle < 180:\n",
    "        answer = 3\n",
    "    elif angle == 180:\n",
    "        answer = 4\n",
    "    else: print(\"error\")\n",
    "    return answer"
   ]
  },
  {
   "cell_type": "markdown",
   "metadata": {},
   "source": [
    "### 다른 사람 풀이"
   ]
  },
  {
   "cell_type": "code",
   "execution_count": 5,
   "metadata": {},
   "outputs": [],
   "source": [
    "def solution(angle):\n",
    "    answer = (angle // 90) * 2 + (angle % 90 > 0) * 1\n",
    "    return answer"
   ]
  }
 ],
 "metadata": {
  "kernelspec": {
   "display_name": "Python 3.10.6 ('bigcon_env')",
   "language": "python",
   "name": "python3"
  },
  "language_info": {
   "codemirror_mode": {
    "name": "ipython",
    "version": 3
   },
   "file_extension": ".py",
   "mimetype": "text/x-python",
   "name": "python",
   "nbconvert_exporter": "python",
   "pygments_lexer": "ipython3",
   "version": "3.10.6"
  },
  "orig_nbformat": 4,
  "vscode": {
   "interpreter": {
    "hash": "296b5ba010412a548b3126eb5d14d3c3ee37e24407f1985a7e17620798204d10"
   }
  }
 },
 "nbformat": 4,
 "nbformat_minor": 2
}
