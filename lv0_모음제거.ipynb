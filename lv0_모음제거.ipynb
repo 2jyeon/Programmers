{
 "cells": [
  {
   "cell_type": "markdown",
   "metadata": {},
   "source": [
    "## 문제 설명\n",
    "영어에선 a, e, i, o, u 다섯 가지 알파벳을 모음으로 분류합니다. 문자열 my_string이 매개변수로 주어질 때 모음을 제거한 문자열을 return하도록 solution 함수를 완성해주세요.\n",
    "\n",
    "제한사항  \n",
    "my_string은 소문자와 공백으로 이루어져 있습니다.  \n",
    "1 ≤ my_string의 길이 ≤ 1,000"
   ]
  },
  {
   "cell_type": "code",
   "execution_count": null,
   "metadata": {},
   "outputs": [],
   "source": [
    "# 풀이 1\n",
    "def solution(my_string):\n",
    "    my_string = my_string.replace('a', '')\n",
    "    my_string = my_string.replace('e', '')\n",
    "    my_string = my_string.replace('i', '')\n",
    "    my_string = my_string.replace('o', '')\n",
    "    my_string = my_string.replace('u', '')\n",
    "    return my_string"
   ]
  },
  {
   "cell_type": "code",
   "execution_count": null,
   "metadata": {},
   "outputs": [],
   "source": [
    "# 풀이 2\n",
    "def solution(my_string):\n",
    "    trans_dic = my_string.maketrans({'a':'', 'e':'', 'i':'', 'o':'', 'u':''})\n",
    "    return my_string.translate(trans_dic)"
   ]
  },
  {
   "cell_type": "code",
   "execution_count": null,
   "metadata": {},
   "outputs": [],
   "source": [
    "# 다른 사람 풀이 1\n",
    "def solution(my_string):\n",
    "    vowels = ['a','e','i','o','u']\n",
    "    for vowel in vowels:\n",
    "        my_string = my_string.replace(vowel, '')\n",
    "    return my_string"
   ]
  },
  {
   "cell_type": "code",
   "execution_count": null,
   "metadata": {},
   "outputs": [],
   "source": [
    "# 다른 사람 풀이 2\n",
    "def solution(my_string):\n",
    "    return \"\".join([i for i in my_string if not(i in \"aeiou\")])"
   ]
  }
 ],
 "metadata": {
  "language_info": {
   "name": "python"
  },
  "orig_nbformat": 4
 },
 "nbformat": 4,
 "nbformat_minor": 2
}
