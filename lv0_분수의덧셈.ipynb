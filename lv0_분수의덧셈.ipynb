{
 "cells": [
  {
   "cell_type": "markdown",
   "metadata": {},
   "source": [
    "## 문제 설명\n",
    "첫 번째 분수의 분자와 분모를 뜻하는 denum1, num1, 두 번째 분수의 분자와 분모를 뜻하는 denum2, num2가 매개변수로 주어집니다. 두 분수를 더한 값을 기약 분수로 나타냈을 때 분자와 분모를 순서대로 담은 배열을 return 하도록 solution 함수를 완성해보세요.\n",
    "\n",
    "제한사항  \n",
    "0 < denum1, num1, denum2, num2 < 1,000\n"
   ]
  },
  {
   "cell_type": "code",
   "execution_count": null,
   "metadata": {},
   "outputs": [],
   "source": [
    "from fractions import Fraction\n",
    "\n",
    "def solution(denum1, num1, denum2, num2):\n",
    "    answer = Fraction(denum1, num1) + Fraction(denum2, num2)\n",
    "    return [answer.numerator, answer.denominator]"
   ]
  },
  {
   "cell_type": "markdown",
   "metadata": {},
   "source": [
    "### 다른 사람 풀이"
   ]
  },
  {
   "cell_type": "code",
   "execution_count": null,
   "metadata": {},
   "outputs": [],
   "source": [
    "import math\n",
    "\n",
    "def solution(denum1, num1, denum2, num2):\n",
    "    denum = denum1 * num2 + denum2 * num1\n",
    "    num = num1 * num2\n",
    "    gcd = math.gcd(denum, num)\n",
    "    return [denum//gcd, num//gcd]"
   ]
  }
 ],
 "metadata": {
  "kernelspec": {
   "display_name": "Python 3.10.6 ('bigcon_env')",
   "language": "python",
   "name": "python3"
  },
  "language_info": {
   "name": "python",
   "version": "3.10.6"
  },
  "orig_nbformat": 4,
  "vscode": {
   "interpreter": {
    "hash": "296b5ba010412a548b3126eb5d14d3c3ee37e24407f1985a7e17620798204d10"
   }
  }
 },
 "nbformat": 4,
 "nbformat_minor": 2
}
