{
 "cells": [
  {
   "cell_type": "markdown",
   "metadata": {},
   "source": [
    "## 문제 설명\n",
    "머쓱이네 피자가게는 피자를 여섯 조각으로 잘라 줍니다. 피자를 나눠먹을 사람의 수 n이 매개변수로 주어질 때, n명이 주문한 피자를 남기지 않고 모두 같은 수의 피자 조각을 먹어야 한다면 최소 몇 판을 시켜야 하는지를 return 하도록 solution 함수를 완성해보세요.\n",
    "\n",
    "제한사항  \n",
    "1 ≤ n ≤ 100\n",
    "\n"
   ]
  },
  {
   "cell_type": "markdown",
   "metadata": {},
   "source": [
    "idea  \n",
    "피자가 남지 않아야 한다  \n",
    "-> (피자\\*6) % n = 0  \n",
    "-> 피자*6은 n의 배수   \n",
    "-> 피자판수*(6/n)이 처음으로 정수가 될 때의 피자판수  \n",
    "-> 반복문.  \n",
    "   분모 n은 최대 100이니까 피자판수는 1~100까지 반복.  \n",
    "   정수가 되면 break"
   ]
  },
  {
   "cell_type": "code",
   "execution_count": null,
   "metadata": {},
   "outputs": [],
   "source": [
    "def solution(n):\n",
    "    tmp = 6 / n\n",
    "    \n",
    "    for i in range(1, 101):\n",
    "        if (tmp * i).is_integer():\n",
    "            answer = i\n",
    "            break\n",
    "            \n",
    "    return answer"
   ]
  },
  {
   "cell_type": "code",
   "execution_count": 1,
   "metadata": {},
   "outputs": [],
   "source": [
    "### 다른 사람 풀이 1\n",
    "\n",
    "def solution(n):\n",
    "    i=1\n",
    "    while(1):\n",
    "        if (6*i)%n==0:\n",
    "            return i\n",
    "        i+=1\n",
    "\n",
    "\n",
    "### 다른 사람 풀이 2\n",
    "# math.gcd 사용\n",
    "\n",
    "import math\n",
    "\n",
    "def solution(n):\n",
    "    print((n * 6))\n",
    "    print(math.gcd(n, 6))\n",
    "    return (n * 6) // math.gcd(n, 6) // 6"
   ]
  }
 ],
 "metadata": {
  "kernelspec": {
   "display_name": "Python 3.10.6 ('bigcon_env')",
   "language": "python",
   "name": "python3"
  },
  "language_info": {
   "codemirror_mode": {
    "name": "ipython",
    "version": 3
   },
   "file_extension": ".py",
   "mimetype": "text/x-python",
   "name": "python",
   "nbconvert_exporter": "python",
   "pygments_lexer": "ipython3",
   "version": "3.10.6"
  },
  "orig_nbformat": 4,
  "vscode": {
   "interpreter": {
    "hash": "296b5ba010412a548b3126eb5d14d3c3ee37e24407f1985a7e17620798204d10"
   }
  }
 },
 "nbformat": 4,
 "nbformat_minor": 2
}
