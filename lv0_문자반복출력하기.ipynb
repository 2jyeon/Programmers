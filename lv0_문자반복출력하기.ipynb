{
 "cells": [
  {
   "cell_type": "markdown",
   "metadata": {},
   "source": [
    "## 문제 설명\n",
    "문자열 my_string과 정수 n이 매개변수로 주어질 때, my_string에 들어있는 각 문자를 n만큼 반복한 문자열을 return 하도록 solution 함수를 완성해보세요.\n",
    "\n",
    "제한사항  \n",
    "2 ≤ my_string 길이 ≤ 5  \n",
    "2 ≤ n ≤ 10  \n",
    "\"my_string\"은 영어 대소문자로 이루어져 있습니다."
   ]
  },
  {
   "cell_type": "markdown",
   "metadata": {},
   "source": [
    "### idea\n",
    "빈 리스트에 반복문으로 0번째 원소부터 하나씩 선택해서 n 번 반복한 값을 계속 append한 후, string으로 변환해서 리턴하자"
   ]
  },
  {
   "cell_type": "code",
   "execution_count": null,
   "metadata": {},
   "outputs": [],
   "source": [
    "def solution(my_string, n):\n",
    "    answer = []\n",
    "    for i in my_string:\n",
    "        answer.append(i * n)\n",
    "    return ''.join(answer)"
   ]
  },
  {
   "cell_type": "code",
   "execution_count": null,
   "metadata": {},
   "outputs": [],
   "source": [
    "### 다른 사람 풀이\n",
    "\n",
    "def solution(my_string, n):\n",
    "    return ''.join(i*n for i in my_string)"
   ]
  }
 ],
 "metadata": {
  "language_info": {
   "name": "python"
  },
  "orig_nbformat": 4
 },
 "nbformat": 4,
 "nbformat_minor": 2
}
