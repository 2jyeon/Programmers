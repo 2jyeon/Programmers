{
 "cells": [
  {
   "cell_type": "markdown",
   "metadata": {},
   "source": [
    "## 문제 설명\n",
    "머쓱이네 피자가게는 피자를 일곱 조각으로 잘라 줍니다. 피자를 나눠먹을 사람의 수 n이 주어질 때, 모든 사람이 피자를 한 조각 이상 먹기 위해 필요한 피자의 수를 return 하는 solution 함수를 완성해보세요.\n",
    "\n",
    "제한사항  \n",
    "1 ≤ n ≤ 100"
   ]
  },
  {
   "cell_type": "markdown",
   "metadata": {},
   "source": [
    "피자 1판 => 7조각  \n",
    "n명이 각자 피자 1조각 이상 => 피자 n조각 이상 필요 => 피자 n/7 판 이상 필요.  \n",
    "피자는 자연수 단위니까, ceil(n/7)판 필요"
   ]
  },
  {
   "cell_type": "code",
   "execution_count": null,
   "metadata": {},
   "outputs": [],
   "source": [
    "import math\n",
    "\n",
    "def solution(n):\n",
    "    return math.ceil(n/7)"
   ]
  },
  {
   "cell_type": "code",
   "execution_count": 7,
   "metadata": {},
   "outputs": [],
   "source": [
    "### 다른 사람 풀이\n",
    "\n",
    "def solution(n):\n",
    "    return (n - 1) // 7 + 1"
   ]
  }
 ],
 "metadata": {
  "kernelspec": {
   "display_name": "Python 3.10.6 ('bigcon_env')",
   "language": "python",
   "name": "python3"
  },
  "language_info": {
   "codemirror_mode": {
    "name": "ipython",
    "version": 3
   },
   "file_extension": ".py",
   "mimetype": "text/x-python",
   "name": "python",
   "nbconvert_exporter": "python",
   "pygments_lexer": "ipython3",
   "version": "3.10.6"
  },
  "orig_nbformat": 4,
  "vscode": {
   "interpreter": {
    "hash": "296b5ba010412a548b3126eb5d14d3c3ee37e24407f1985a7e17620798204d10"
   }
  }
 },
 "nbformat": 4,
 "nbformat_minor": 2
}
