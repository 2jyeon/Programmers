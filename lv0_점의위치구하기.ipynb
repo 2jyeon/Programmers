{
  "cells": [
    {
      "cell_type": "markdown",
      "metadata": {
        "colab_type": "text",
        "id": "view-in-github"
      },
      "source": [
        "<a href=\"https://colab.research.google.com/github/2jyeon/Programmers/blob/main/%EC%A0%90%EC%9D%98%EC%9C%84%EC%B9%98%EA%B5%AC%ED%95%98%EA%B8%B0.ipynb\" target=\"_parent\"><img src=\"https://colab.research.google.com/assets/colab-badge.svg\" alt=\"Open In Colab\"/></a>"
      ]
    },
    {
      "cell_type": "markdown",
      "metadata": {
        "id": "bjYVKX4zamka"
      },
      "source": [
        "## 문제 설명\n",
        "사분면은 한 평면을 x축과 y축을 기준으로 나눈 네 부분입니다. 사분면은 아래와 같이 1부터 4까지 번호를매깁니다.\n",
        "\n",
        "![lv0_점의위치구하기](./image/lv0_점의위치구하기.png)  \n",
        "\n",
        "- x 좌표와 y 좌표가 모두 양수이면 제1사분면에 속합니다.\n",
        "- x 좌표가 음수, y 좌표가 양수이면 제2사분면에 속합니다.\n",
        "- x 좌표와 y 좌표가 모두 음수이면 제3사분면에 속합니다.\n",
        "- x 좌표가 양수, y 좌표가 음수이면 제4사분면에 속합니다.  \n",
        "\n",
        "x 좌표 (x, y)를 차례대로 담은 정수 배열 dot이 매개변수로 주어집니다. 좌표 dot이 사분면 중 어디에 속하는지 1, 2, 3, 4 중 하나를 return 하도록 solution 함수를 완성해주세요."
      ]
    },
    {
      "cell_type": "code",
      "execution_count": null,
      "metadata": {
        "id": "YY_Tstv1amtL"
      },
      "outputs": [],
      "source": [
        "# IDEA\n",
        "# 총 4개의 영역을 구분하는 if문을 작성한다.\n",
        "\n",
        "def solution(dot):\n",
        "    x, y = dot[0], dot[1]\n",
        "    print(x, y)\n",
        "    if x>0 and y>0:\n",
        "        return 1\n",
        "    elif x<0 and y>0:\n",
        "        return 2\n",
        "    elif x<0 and y<0:\n",
        "        return 3\n",
        "    elif x>0 and y<0:\n",
        "        return 4\n",
        "    else:\n",
        "        print(\"원점입니다\")"
      ]
    },
    {
      "cell_type": "code",
      "execution_count": null,
      "metadata": {
        "id": "2RzGB9lDb_5C"
      },
      "outputs": [],
      "source": [
        "# 다른 사람 풀이\n",
        "def solution(dot):\n",
        "    quad = [(3,2),(4,1)]\n",
        "    return quad[dot[0] > 0][dot[1] > 0]"
      ]
    }
  ],
  "metadata": {
    "colab": {
      "authorship_tag": "ABX9TyPfITE2nZnDU2EUz+ChDl7x",
      "include_colab_link": true,
      "provenance": []
    },
    "kernelspec": {
      "display_name": "Python 3.10.6 ('bigcon_env')",
      "language": "python",
      "name": "python3"
    },
    "language_info": {
      "name": "python",
      "version": "3.10.6"
    },
    "vscode": {
      "interpreter": {
        "hash": "296b5ba010412a548b3126eb5d14d3c3ee37e24407f1985a7e17620798204d10"
      }
    }
  },
  "nbformat": 4,
  "nbformat_minor": 0
}
