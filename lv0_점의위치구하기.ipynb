{
  "cells": [
    {
      "cell_type": "markdown",
      "metadata": {
        "colab_type": "text",
        "id": "view-in-github"
      },
      "source": [
        "<a href=\"https://colab.research.google.com/github/2jyeon/Programmers/blob/main/%EC%A0%90%EC%9D%98%EC%9C%84%EC%B9%98%EA%B5%AC%ED%95%98%EA%B8%B0.ipynb\" target=\"_parent\"><img src=\"https://colab.research.google.com/assets/colab-badge.svg\" alt=\"Open In Colab\"/></a>"
      ]
    },
    {
      "cell_type": "markdown",
      "metadata": {
        "id": "bjYVKX4zamka"
      },
      "source": []
    },
    {
      "cell_type": "code",
      "execution_count": null,
      "metadata": {
        "id": "YY_Tstv1amtL"
      },
      "outputs": [],
      "source": [
        "# IDEA\n",
        "# 총 4개의 영역을 구분하는 if문을 작성한다.\n",
        "\n",
        "def solution(dot):\n",
        "    x, y = dot[0], dot[1]\n",
        "    print(x, y)\n",
        "    if x>0 and y>0:\n",
        "        return 1\n",
        "    elif x<0 and y>0:\n",
        "        return 2\n",
        "    elif x<0 and y<0:\n",
        "        return 3\n",
        "    elif x>0 and y<0:\n",
        "        return 4\n",
        "    else:\n",
        "        print(\"원점입니다\")"
      ]
    },
    {
      "cell_type": "code",
      "execution_count": null,
      "metadata": {
        "id": "2RzGB9lDb_5C"
      },
      "outputs": [],
      "source": [
        "# 다른 사람 풀이\n",
        "def solution(dot):\n",
        "    quad = [(3,2),(4,1)]\n",
        "    return quad[dot[0] > 0][dot[1] > 0]"
      ]
    }
  ],
  "metadata": {
    "colab": {
      "authorship_tag": "ABX9TyPfITE2nZnDU2EUz+ChDl7x",
      "include_colab_link": true,
      "provenance": []
    },
    "kernelspec": {
      "display_name": "Python 3.10.6 ('bigcon_env')",
      "language": "python",
      "name": "python3"
    },
    "language_info": {
      "name": "python",
      "version": "3.10.6"
    },
    "vscode": {
      "interpreter": {
        "hash": "296b5ba010412a548b3126eb5d14d3c3ee37e24407f1985a7e17620798204d10"
      }
    }
  },
  "nbformat": 4,
  "nbformat_minor": 0
}
