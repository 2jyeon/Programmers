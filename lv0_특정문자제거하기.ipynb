{
 "cells": [
  {
   "cell_type": "markdown",
   "metadata": {},
   "source": [
    "## 문제 설명\n",
    "문자열 my_string과 문자 letter이 매개변수로 주어집니다. my_string에서 letter를 제거한 문자열을 return하도록 solution 함수를 완성해주세요.\n",
    "\n",
    "제한사항   \n",
    "1 ≤ my_string의 길이 ≤ 100  \n",
    "letter은 길이가 1인 영문자입니다.  \n",
    "my_string과 letter은 알파벳 대소문자로 이루어져 있습니다.  \n",
    "대문자와 소문자를 구분합니다.\n"
   ]
  },
  {
   "cell_type": "code",
   "execution_count": null,
   "metadata": {},
   "outputs": [],
   "source": [
    "def solution(my_string, letter):\n",
    "    return my_string.replace(letter, '')"
   ]
  }
 ],
 "metadata": {
  "language_info": {
   "name": "python"
  },
  "orig_nbformat": 4
 },
 "nbformat": 4,
 "nbformat_minor": 2
}
