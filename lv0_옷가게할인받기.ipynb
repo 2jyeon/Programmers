{
 "cells": [
  {
   "cell_type": "markdown",
   "metadata": {},
   "source": [
    "## 문제 설명\n",
    "머쓱이네 옷가게는 10만 원 이상 사면 5%, 30만 원 이상 사면 10%, 50만 원 이상 사면 20%를 할인해줍니다.\n",
    "구매한 옷의 가격 price가 주어질 때, 지불해야 할 금액을 return 하도록 solution 함수를 완성해보세요.\n",
    "\n",
    "제한사항  \n",
    "10 ≤ price ≤ 1,000,000  \n",
    "price는 10원 단위로(1의 자리가 0) 주어집니다.  \n",
    "소수점 이하를 버린 정수를 return합니다."
   ]
  },
  {
   "cell_type": "markdown",
   "metadata": {},
   "source": [
    "## 풀이"
   ]
  },
  {
   "cell_type": "code",
   "execution_count": null,
   "metadata": {},
   "outputs": [],
   "source": [
    "def solution(price):\n",
    "    if price >= 500000:\n",
    "        discount = 0.2\n",
    "    elif price >= 300000:\n",
    "        discount = 0.1\n",
    "    elif price >= 100000:\n",
    "        discount = 0.05\n",
    "    else:\n",
    "        discount = 0\n",
    "    return int(price * (1-discount))"
   ]
  },
  {
   "cell_type": "markdown",
   "metadata": {},
   "source": [
    "## 다른 사람 풀이"
   ]
  },
  {
   "cell_type": "code",
   "execution_count": null,
   "metadata": {},
   "outputs": [],
   "source": [
    "def solution(price):\n",
    "    discount_rates = {500000: 0.8, 300000: 0.9, 100000: 0.95, 0: 1}\n",
    "    for discount_price, discount_rate in discount_rates.items():\n",
    "        if price >= discount_price:\n",
    "            return int(price * discount_rate)\n"
   ]
  }
 ],
 "metadata": {
  "language_info": {
   "name": "python"
  },
  "orig_nbformat": 4
 },
 "nbformat": 4,
 "nbformat_minor": 2
}
