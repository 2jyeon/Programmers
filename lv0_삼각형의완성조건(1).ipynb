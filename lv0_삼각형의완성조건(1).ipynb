{
 "cells": [
  {
   "cell_type": "markdown",
   "metadata": {},
   "source": [
    "## 문제 설명\n",
    "선분 세 개로 삼각형을 만들기 위해서는 다음과 같은 조건을 만족해야 합니다.  \n",
    "- 가장 긴 변의 길이는 다른 두 변의 길이의 합보다 작아야 합니다.  \n",
    "\n",
    "삼각형의 세 변의 길이가 담긴 배열 sides이 매개변수로 주어집니다. 세 변으로 삼각형을 만들 수 있다면 1, 만들 수 없다면 2를 return하도록 solution 함수를 완성해주세요.  \n",
    "\n",
    "제한사항  \n",
    "sides의 원소는 자연수입니다.  \n",
    "sides의 길이는 3입니다.  \n",
    "1 ≤ sides의 원소 ≤ 1,000"
   ]
  },
  {
   "cell_type": "code",
   "execution_count": null,
   "metadata": {},
   "outputs": [],
   "source": [
    "def solution(sides):\n",
    "    sides.sort()\n",
    "    \n",
    "    if sides[2] < sides[0] + sides[1]:\n",
    "        return 1\n",
    "    else:\n",
    "        return 2"
   ]
  },
  {
   "cell_type": "code",
   "execution_count": null,
   "metadata": {},
   "outputs": [],
   "source": [
    "### 다른 사람 풀이\n",
    "def solution(sides):\n",
    "    return 1 if max(sides) < (sum(sides) - max(sides)) else 2"
   ]
  }
 ],
 "metadata": {
  "language_info": {
   "name": "python"
  },
  "orig_nbformat": 4
 },
 "nbformat": 4,
 "nbformat_minor": 2
}
