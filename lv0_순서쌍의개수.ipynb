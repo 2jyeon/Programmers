{
  "nbformat": 4,
  "nbformat_minor": 0,
  "metadata": {
    "colab": {
      "provenance": [],
      "authorship_tag": "ABX9TyN3Yn20WV/u42aah5kiS8e4",
      "include_colab_link": true
    },
    "kernelspec": {
      "name": "python3",
      "display_name": "Python 3"
    },
    "language_info": {
      "name": "python"
    }
  },
  "cells": [
    {
      "cell_type": "markdown",
      "metadata": {
        "id": "view-in-github",
        "colab_type": "text"
      },
      "source": [
        "<a href=\"https://colab.research.google.com/github/2jyeon/Programmers/blob/main/lv0_%EC%88%9C%EC%84%9C%EC%8C%8D%EC%9D%98%EA%B0%9C%EC%88%98.ipynb\" target=\"_parent\"><img src=\"https://colab.research.google.com/assets/colab-badge.svg\" alt=\"Open In Colab\"/></a>"
      ]
    },
    {
      "cell_type": "markdown",
      "source": [
        "## 문제 설명\n",
        "순서쌍이란 두 개의 숫자를 순서를 정하여 짝지어 나타낸 쌍으로 (a, b)로 표기합니다. 자연수 n이 매개변수로 주어질 때 두 숫자의 곱이 n인 자연수 순서쌍의 개수를 return하도록 solution 함수를 완성해주세요.\n",
        "\n",
        "제한사항  \n",
        "1 ≤ n ≤ 1,000,000"
      ],
      "metadata": {
        "id": "et3B5GYlHqXd"
      }
    },
    {
      "cell_type": "markdown",
      "source": [
        "## 풀이 1"
      ],
      "metadata": {
        "id": "zd5-_9wCRcCB"
      }
    },
    {
      "cell_type": "code",
      "source": [
        "def solution(n):\n",
        "    answer = 0\n",
        "    for i in range(1, n+1):\n",
        "        j = n % i\n",
        "        if j == 0:\n",
        "            answer += 1\n",
        "        else:\n",
        "            continue\n",
        "    return answer"
      ],
      "metadata": {
        "id": "HTjy0rbbHtsd"
      },
      "execution_count": null,
      "outputs": []
    },
    {
      "cell_type": "markdown",
      "source": [
        "답은 맞았는데, 몇몇 케이스에서 시간이 꽤 걸림  \n",
        "테스트 1 〉\t통과 (0.00ms, 10.1MB)  \n",
        "테스트 2 〉\t통과 (0.00ms, 10.1MB)  \n",
        "테스트 3 〉\t통과 (7.78ms, 10.1MB)  \n",
        "테스트 4 〉\t통과 (0.00ms, 10.3MB)  \n",
        "테스트 5 〉\t통과 (5.75ms, 10.2MB)  \n",
        "테스트 6 〉\t통과 (59.47ms, 10.1MB)  \n",
        "테스트 7 〉\t통과 (0.00ms, 10.2MB)  \n",
        "테스트 8 〉\t통과 (0.01ms, 10.1MB)  \n",
        "테스트 9 〉\t통과 (62.75ms, 10.2MB)  \n",
        "테스트 10 〉\t통과 (83.92ms, 10.2MB)"
      ],
      "metadata": {
        "id": "O_urL7qaNPyk"
      }
    },
    {
      "cell_type": "markdown",
      "source": [
        "idea  \n",
        "제곱수를 제외하면 같은 원소를 가진 순서쌍이 2개씩이니까, 연산량을 거의 절반으로 줄여볼 수 있지 않을까?"
      ],
      "metadata": {
        "id": "AE001MGPOI85"
      }
    },
    {
      "cell_type": "markdown",
      "source": [
        "## 풀이 2"
      ],
      "metadata": {
        "id": "wegc2QzNRY6T"
      }
    },
    {
      "cell_type": "markdown",
      "source": [
        "idea  \n",
        "제곱근으로 이루어진 순서쌍은 1개, 그 외의 순서쌍은 2개씩 있다는 점을 이용했다"
      ],
      "metadata": {
        "id": "bmNBvz3ASCSn"
      }
    },
    {
      "cell_type": "code",
      "source": [
        "def solution(n):\n",
        "    answer = 0\n",
        "    for i in range(1, int(n**(1/2))+1):\n",
        "        if i*i == n:\n",
        "            answer += 1\n",
        "        elif n % i == 0:\n",
        "            answer += 2\n",
        "        else:\n",
        "            continue\n",
        "    return answer"
      ],
      "metadata": {
        "id": "LMAKo5ewRWuS"
      },
      "execution_count": null,
      "outputs": []
    },
    {
      "cell_type": "markdown",
      "source": [
        "풀이 1에 비하면 시간이 확연히 줄었다  \n",
        "테스트 1 〉\t통과 (0.00ms, 10.1MB)  \n",
        "테스트 2 〉\t통과 (0.01ms, 10.2MB)   \n",
        "테스트 3 〉\t통과 (0.04ms, 10.2MB)   \n",
        "테스트 4 〉\t통과 (0.02ms, 10.3MB)  \n",
        "테스트 5 〉\t통과 (0.04ms, 10.1MB)   \n",
        "테스트 6 〉\t통과 (0.10ms, 10.1MB)   \n",
        "테스트 7 〉\t통과 (0.01ms, 10.3MB)  \n",
        "테스트 8 〉\t통과 (0.02ms, 10.2MB)  \n",
        "테스트 9 〉\t통과 (0.10ms, 10.1MB)  \n",
        "테스트 10 〉\t통과 (0.10ms, 10.1MB)"
      ],
      "metadata": {
        "id": "mMVOV94sRgL6"
      }
    },
    {
      "cell_type": "markdown",
      "source": [
        "하나 더 깨달은 점은, 동일한 변수를 게속 쓰는 게 아니면서, 코드 가독성에 무리가 없다면 변수를 따로 만들지 않고 바로 사용하는 편이 더 빠르다.  \n",
        "근데 코테볼 때는 속도가 중요하니까 그렇게 짜겠는데, 실제로는 0.1ms 더걸려도 변수 따로 선언해주는 게 좋지 않을까?"
      ],
      "metadata": {
        "id": "u4qoh1W9TYj3"
      }
    },
    {
      "cell_type": "markdown",
      "source": [
        "## 다른 사람 풀이 1"
      ],
      "metadata": {
        "id": "iOWyCNbcSmyA"
      }
    },
    {
      "cell_type": "code",
      "source": [
        "def solution(n):\n",
        "    answer = 0\n",
        "    for i in range(1, int(n ** 0.5) + 1):\n",
        "        if n % i == 0:\n",
        "            answer += 2\n",
        "\n",
        "            if i * i == n:\n",
        "                answer -= 1\n",
        "\n",
        "    return answer"
      ],
      "metadata": {
        "id": "1bRTMlr3Sodi"
      },
      "execution_count": null,
      "outputs": []
    },
    {
      "cell_type": "markdown",
      "source": [
        "내 풀이2와 유사한데, 전체적으로 2씩 더하고 제곱근이면 1을 빼도록 만드셨다.  \n",
        "대체적으로 이러한 idea 를 사용한 풀이가 많았다."
      ],
      "metadata": {
        "id": "EooXGUTkT6te"
      }
    },
    {
      "cell_type": "markdown",
      "source": [
        "## 다른 사람 풀이 2"
      ],
      "metadata": {
        "id": "XCS0PgqtUbiT"
      }
    },
    {
      "cell_type": "code",
      "source": [
        "def solution(n):\n",
        "    return len(list(filter(lambda v: n % (v+1) == 0, range(n))))"
      ],
      "metadata": {
        "id": "KD6Mw08OUaNQ"
      },
      "execution_count": null,
      "outputs": []
    }
  ]
}