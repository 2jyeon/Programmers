{
  "cells": [
    {
      "cell_type": "markdown",
      "metadata": {
        "colab_type": "text",
        "id": "view-in-github"
      },
      "source": [
        "<a href=\"https://colab.research.google.com/github/2jyeon/Programmers/blob/main/%EB%B0%B0%EC%97%B4%EC%9B%90%EC%86%8C%EC%9D%98%EA%B8%B8%EC%9D%B4.ipynb\" target=\"_parent\"><img src=\"https://colab.research.google.com/assets/colab-badge.svg\" alt=\"Open In Colab\"/></a>"
      ]
    },
    {
      "cell_type": "markdown",
      "metadata": {
        "id": "K7-4hFHSni1m"
      },
      "source": [
        "## 문제 설명\n",
        "문자열 배열 strlist가 매개변수로 주어집니다. strlist 각 원소의 길이를 담은 배열을 retrun하도록 solution 함수를 완성해주세요.\n",
        "\n",
        "제한사항  \n",
        "1 ≤ strlist 원소의 길이 ≤ 100  \n",
        "strlist는 알파벳 소문자, 대문자, 특수문자로 구성되어 있습니다.\n"
      ]
    },
    {
      "cell_type": "code",
      "execution_count": null,
      "metadata": {
        "id": "JfrgeHEEneVJ"
      },
      "outputs": [],
      "source": [
        "# 풀이1\n",
        "def solution(strlist):\n",
        "    answer = []\n",
        "    for i in strlist:\n",
        "        answer.append(len(i))\n",
        "    return answer\n",
        "\n",
        "\n",
        "# 풀이2\n",
        "def solution(strlist):\n",
        "    return [len(i) for i in strlist]\n"
      ]
    }
  ],
  "metadata": {
    "colab": {
      "authorship_tag": "ABX9TyNkibnLJyyhb5Kgdc/eik12",
      "include_colab_link": true,
      "provenance": []
    },
    "kernelspec": {
      "display_name": "Python 3",
      "name": "python3"
    },
    "language_info": {
      "name": "python"
    }
  },
  "nbformat": 4,
  "nbformat_minor": 0
}
