{
 "cells": [
  {
   "cell_type": "markdown",
   "metadata": {},
   "source": [
    "## 문제 설명\n",
    "정수 배열 numbers가 매개변수로 주어집니다. numbers의 원소의 평균값을 return하도록 solution 함수를 완성해주세요.\n",
    "\n",
    "제한사항  \n",
    "0 ≤ numbers의 원소 ≤ 1,000  \n",
    "1 ≤ numbers의 길이 ≤ 100  \n",
    "정답의 소수 부분이 .0 또는 .5인 경우만 입력으로 주어집니다."
   ]
  },
  {
   "cell_type": "code",
   "execution_count": null,
   "metadata": {},
   "outputs": [],
   "source": [
    "def solution(numbers):\n",
    "    answer = sum(numbers)/len(numbers)\n",
    "    return answer"
   ]
  },
  {
   "cell_type": "code",
   "execution_count": null,
   "metadata": {},
   "outputs": [],
   "source": [
    "### 다른 사람 풀이\n",
    "\n",
    "import numpy as np\n",
    "def solution(numbers):\n",
    "    return np.mean(numbers"
   ]
  }
 ],
 "metadata": {
  "language_info": {
   "name": "python"
  },
  "orig_nbformat": 4
 },
 "nbformat": 4,
 "nbformat_minor": 2
}
