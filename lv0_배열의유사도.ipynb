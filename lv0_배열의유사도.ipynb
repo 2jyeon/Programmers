{
 "cells": [
  {
   "cell_type": "markdown",
   "metadata": {},
   "source": [
    "## 문제 설명\n",
    "두 배열이 얼마나 유사한지 확인해보려고 합니다. 문자열 배열 s1과 s2가 주어질 때 같은 원소의 개수를 return하도록 solution 함수를 완성해주세요.\n",
    "\n",
    "제한사항  \n",
    "- 1 ≤ s1, s2의 길이 ≤ 100\n",
    "- 1 ≤ s1, s2의 원소의 길이 ≤ 10\n",
    "- s1과 s2의 원소는 알파벳 소문자로만 이루어져 있습니다\n",
    "- s1과 s2는 각각 중복된 원소를 갖지 않습니다."
   ]
  },
  {
   "cell_type": "markdown",
   "metadata": {},
   "source": [
    "## 풀이 1"
   ]
  },
  {
   "cell_type": "markdown",
   "metadata": {},
   "source": [
    "idea  \n",
    "s1과 s2중에 길이가 더 짧은 애를 데리고와서,\n",
    "그 리스트의 원소 각각이 다른 리스트에 있는지 반복문으로 확인"
   ]
  },
  {
   "cell_type": "code",
   "execution_count": null,
   "metadata": {},
   "outputs": [],
   "source": [
    "def solution(s1, s2):\n",
    "    if len(s1) < len(s2):\n",
    "        a, b = s1, s2\n",
    "    else:\n",
    "        a, b = s2, s1\n",
    "    \n",
    "    answer = 0\n",
    "    for i in a:\n",
    "        if i in b:\n",
    "            answer += 1\n",
    "        else:\n",
    "            continue\n",
    "            \n",
    "    return answer"
   ]
  },
  {
   "cell_type": "markdown",
   "metadata": {},
   "source": [
    "## 풀이2\n",
    "idea  \n",
    "s1, s2 두 리스트를 하나의 리스트로 합친 다음, 중복된 원소의 개수를 센다."
   ]
  },
  {
   "cell_type": "code",
   "execution_count": null,
   "metadata": {},
   "outputs": [],
   "source": [
    "def solution(s1, s2):\n",
    "    s = s1 + s2\n",
    "    set_s = set(s)\n",
    "    return len(s)-len(set_s)"
   ]
  },
  {
   "cell_type": "markdown",
   "metadata": {},
   "source": [
    "## 다른 사람의 풀이"
   ]
  },
  {
   "cell_type": "code",
   "execution_count": null,
   "metadata": {},
   "outputs": [],
   "source": [
    "def solution(s1, s2):\n",
    "    return len(set(s1)&set(s2))"
   ]
  }
 ],
 "metadata": {
  "language_info": {
   "name": "python"
  },
  "orig_nbformat": 4
 },
 "nbformat": 4,
 "nbformat_minor": 2
}
