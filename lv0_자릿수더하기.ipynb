{
 "cells": [
  {
   "cell_type": "markdown",
   "metadata": {},
   "source": [
    "## 문제 설명\n",
    "정수 n이 매개변수로 주어질 때 n의 각 자리 숫자의 합을 return하도록 solution 함수를 완성해주세요\n",
    "\n",
    "제한사항  \n",
    "0 ≤ n ≤ 1,000,000"
   ]
  },
  {
   "cell_type": "markdown",
   "metadata": {},
   "source": [
    "idea  \n",
    "n을 문자열로 바꾼 후 하나씩 추출해서 더한다."
   ]
  },
  {
   "cell_type": "code",
   "execution_count": null,
   "metadata": {},
   "outputs": [],
   "source": [
    "# 풀이 1\n",
    "def solution(n):\n",
    "    str_n = str(n)\n",
    "    answer = 0\n",
    "    for i in str_n:\n",
    "        answer += int(i)\n",
    "    return answer"
   ]
  },
  {
   "cell_type": "code",
   "execution_count": null,
   "metadata": {},
   "outputs": [],
   "source": [
    "# 풀이 2\n",
    "def solution(n):\n",
    "    return sum([int(i) for i in str(n)])\n",
    "\n",
    "# 풀이 2가 풀이 1보다 속도가 느렸다.\n",
    "# 굳이 리스트로 만들 필요는 없었다."
   ]
  },
  {
   "cell_type": "code",
   "execution_count": null,
   "metadata": {},
   "outputs": [],
   "source": [
    "# 다른사람 풀이\n",
    "def solution(n):\n",
    "    return sum(list(map(int, str(n))))"
   ]
  }
 ],
 "metadata": {
  "language_info": {
   "name": "python"
  },
  "orig_nbformat": 4
 },
 "nbformat": 4,
 "nbformat_minor": 2
}
