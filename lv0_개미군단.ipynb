{
  "nbformat": 4,
  "nbformat_minor": 0,
  "metadata": {
    "colab": {
      "provenance": [],
      "authorship_tag": "ABX9TyMWTn9WQ1qt53hQYQ/F2yJX",
      "include_colab_link": true
    },
    "kernelspec": {
      "name": "python3",
      "display_name": "Python 3"
    },
    "language_info": {
      "name": "python"
    }
  },
  "cells": [
    {
      "cell_type": "markdown",
      "metadata": {
        "id": "view-in-github",
        "colab_type": "text"
      },
      "source": [
        "<a href=\"https://colab.research.google.com/github/2jyeon/Programmers/blob/main/lv0_%EA%B0%9C%EB%AF%B8%EA%B5%B0%EB%8B%A8.ipynb\" target=\"_parent\"><img src=\"https://colab.research.google.com/assets/colab-badge.svg\" alt=\"Open In Colab\"/></a>"
      ]
    },
    {
      "cell_type": "markdown",
      "source": [
        "## 문제 설명\n",
        "개미 군단이 사냥을 나가려고 합니다. 개미군단은 사냥감의 체력에 딱 맞는 병력을 데리고 나가려고 합니다. 장군개미는 5의 공격력을, 병정개미는 3의 공격력을 일개미는 1의 공격력을 가지고 있습니다. 예를 들어 체력 23의 여치를 사냥하려고 할 때, 일개미 23마리를 데리고 가도 되지만, 장군개미 네 마리와 병정개미 한 마리를 데리고 간다면 더 적은 병력으로 사냥할 수 있습니다. 사냥감의 체력 hp가 매개변수로 주어질 때, 사냥감의 체력에 딱 맞게 최소한의 병력을 구성하려면 몇 마리의 개미가 필요한지를 return하도록 solution 함수를 완성해주세요.\n",
        "\n",
        "## 제한사항\n",
        "hp는 자연수입니다.  \n",
        "0 ≤ hp ≤ 1000"
      ],
      "metadata": {
        "id": "b3GaVsSS7DUO"
      }
    },
    {
      "cell_type": "markdown",
      "source": [
        "## idea\n",
        "몫과 나머지를 이용하자"
      ],
      "metadata": {
        "id": "8CqXQPkx8KEW"
      }
    },
    {
      "cell_type": "code",
      "execution_count": null,
      "metadata": {
        "id": "5JwztOa76-vr"
      },
      "outputs": [],
      "source": [
        "# 풀이\n",
        "def solution(hp):\n",
        "    boss, hp1 = divmod(hp, 5)\n",
        "    soilder, hp2 = divmod(hp1, 3)\n",
        "    return boss + soilder + hp2"
      ]
    }
  ]
}