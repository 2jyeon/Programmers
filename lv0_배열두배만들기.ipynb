{
  "nbformat": 4,
  "nbformat_minor": 0,
  "metadata": {
    "colab": {
      "provenance": [],
      "authorship_tag": "ABX9TyPVVYMbRaKpeqPLmn0M4pLb",
      "include_colab_link": true
    },
    "kernelspec": {
      "name": "python3",
      "display_name": "Python 3"
    },
    "language_info": {
      "name": "python"
    }
  },
  "cells": [
    {
      "cell_type": "markdown",
      "metadata": {
        "id": "view-in-github",
        "colab_type": "text"
      },
      "source": [
        "<a href=\"https://colab.research.google.com/github/2jyeon/Programmers/blob/main/lv0_%EB%B0%B0%EC%97%B4%EB%91%90%EB%B0%B0%EB%A7%8C%EB%93%A4%EA%B8%B0.ipynb\" target=\"_parent\"><img src=\"https://colab.research.google.com/assets/colab-badge.svg\" alt=\"Open In Colab\"/></a>"
      ]
    },
    {
      "cell_type": "markdown",
      "source": [
        "## 문제 설명\n",
        "정수 배열 numbers가 매개변수로 주어집니다. numbers의 각 원소에 두배한 원소를 가진 배열을 return하도록 solution 함수를 완성해주세요.\n",
        "\n",
        "제한사항  \n",
        "-10,000 ≤ numbers의 원소 ≤ 10,000  \n",
        "1 ≤ numbers의 길이 ≤ 1,000\n"
      ],
      "metadata": {
        "id": "ojaqSjAyaPdz"
      }
    },
    {
      "cell_type": "code",
      "execution_count": null,
      "metadata": {
        "id": "tvPHDTp3aJSv"
      },
      "outputs": [],
      "source": [
        "def solution(numbers):\n",
        "    answer = []\n",
        "    for i in numbers:\n",
        "        answer.append(i * 2)\n",
        "    return answer"
      ]
    },
    {
      "cell_type": "code",
      "source": [
        "### 다른 사람 풀이 추가\n",
        "def solution(numbers):\n",
        "    return [num*2 for num in numbers]"
      ],
      "metadata": {
        "id": "tmX2JzVSa1mr"
      },
      "execution_count": null,
      "outputs": []
    }
  ]
}