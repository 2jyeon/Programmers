{
 "cells": [
  {
   "cell_type": "markdown",
   "metadata": {},
   "source": [
    "## 문제 설명\n",
    "정수 num1과 num2가 매개변수로 주어질 때, num1을 num2로 나눈 값에 1,000을 곱한 후 정수 부분을 return 하도록 soltuion 함수를 완성해주세요.\n",
    "\n",
    "제한사항  \n",
    "0 < num1 ≤ 100  \n",
    "0 < num2 ≤ 100  \n"
   ]
  },
  {
   "cell_type": "code",
   "execution_count": null,
   "metadata": {},
   "outputs": [],
   "source": [
    "from fractions import Fraction\n",
    "\n",
    "def solution(denum1, num1, denum2, num2):\n",
    "    answer = Fraction(denum1, num1) + Fraction(denum2, num2)\n",
    "    return [answer.numerator, answer.denominator]"
   ]
  },
  {
   "cell_type": "markdown",
   "metadata": {},
   "source": [
    "### 다른 사람 풀이"
   ]
  },
  {
   "cell_type": "code",
   "execution_count": 1,
   "metadata": {},
   "outputs": [
    {
     "name": "stdout",
     "output_type": "stream",
     "text": [
      "6 8 2\n"
     ]
    },
    {
     "data": {
      "text/plain": [
       "[3, 4]"
      ]
     },
     "execution_count": 1,
     "metadata": {},
     "output_type": "execute_result"
    }
   ],
   "source": [
    "import math\n",
    "\n",
    "def solution(denum1, num1, denum2, num2):\n",
    "    denum = denum1*num2 + denum2*num1\n",
    "    num = num1*num2\n",
    "    gcd = math.gcd(denum, num)\n",
    "    print(denum, num, gcd)\n",
    "    return [denum//gcd, num//gcd]\n",
    "\n",
    "solution(1, 4, 1, 2)"
   ]
  }
 ],
 "metadata": {
  "kernelspec": {
   "display_name": "Python 3.10.6 ('bigcon_env')",
   "language": "python",
   "name": "python3"
  },
  "language_info": {
   "codemirror_mode": {
    "name": "ipython",
    "version": 3
   },
   "file_extension": ".py",
   "mimetype": "text/x-python",
   "name": "python",
   "nbconvert_exporter": "python",
   "pygments_lexer": "ipython3",
   "version": "3.10.6"
  },
  "orig_nbformat": 4,
  "vscode": {
   "interpreter": {
    "hash": "296b5ba010412a548b3126eb5d14d3c3ee37e24407f1985a7e17620798204d10"
   }
  }
 },
 "nbformat": 4,
 "nbformat_minor": 2
}
