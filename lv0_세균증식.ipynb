{
  "nbformat": 4,
  "nbformat_minor": 0,
  "metadata": {
    "colab": {
      "provenance": [],
      "authorship_tag": "ABX9TyMRASfkJJF/k4cxGJ5fjOo2",
      "include_colab_link": true
    },
    "kernelspec": {
      "name": "python3",
      "display_name": "Python 3"
    },
    "language_info": {
      "name": "python"
    }
  },
  "cells": [
    {
      "cell_type": "markdown",
      "metadata": {
        "id": "view-in-github",
        "colab_type": "text"
      },
      "source": [
        "<a href=\"https://colab.research.google.com/github/2jyeon/Programmers/blob/main/lv0_%EC%84%B8%EA%B7%A0%EC%A6%9D%EC%8B%9D.ipynb\" target=\"_parent\"><img src=\"https://colab.research.google.com/assets/colab-badge.svg\" alt=\"Open In Colab\"/></a>"
      ]
    },
    {
      "cell_type": "markdown",
      "source": [
        "##문제 설명\n",
        "어떤 세균은 1시간에 두배만큼 증식한다고 합니다. 처음 세균의 마리수 n과 경과한 시간 t가 매개변수로 주어질 때 t시간 후 세균의 수를 return하도록 solution 함수를 완성해주세요.\n",
        "\n",
        "##제한사항\n",
        "1 ≤ n ≤ 10  \n",
        "1 ≤ t ≤ 15"
      ],
      "metadata": {
        "id": "NrWD3h1C8mtx"
      }
    },
    {
      "cell_type": "markdown",
      "source": [
        "## 풀이1"
      ],
      "metadata": {
        "id": "-Q04jeDX-2Nf"
      }
    },
    {
      "cell_type": "code",
      "execution_count": null,
      "metadata": {
        "id": "P18EGFZg8i8I"
      },
      "outputs": [],
      "source": [
        "def solution(n, t):\n",
        "    i = 1\n",
        "    tmp = n\n",
        "    while i <= t:\n",
        "        tmp = tmp * 2\n",
        "        i += 1\n",
        "    return tmp"
      ]
    },
    {
      "cell_type": "markdown",
      "source": [
        "##풀이2\n",
        "반복문말고 그냥 식으로 짜면 끝날 것 같아서 다시 생각해보니  \n",
        "((n\\*2)\\*2)\\*2 ... 이런 식으로 t번 반복하는 거니까 결국  \n",
        "n * (2^t) 와 같다.\n"
      ],
      "metadata": {
        "id": "1kOQ-o7h-3lp"
      }
    },
    {
      "cell_type": "code",
      "source": [
        "def solution(n, t):\n",
        "    return n * (2**t)"
      ],
      "metadata": {
        "id": "h7MVtXwW--9z"
      },
      "execution_count": null,
      "outputs": []
    },
    {
      "cell_type": "markdown",
      "source": [
        "## 다른 사람 풀이\n"
      ],
      "metadata": {
        "id": "rQA6hSx8_jyd"
      }
    },
    {
      "cell_type": "code",
      "source": [
        "def solution(n, t):\n",
        "    return n << t"
      ],
      "metadata": {
        "id": "F6_bTheu_oG5"
      },
      "execution_count": null,
      "outputs": []
    }
  ]
}