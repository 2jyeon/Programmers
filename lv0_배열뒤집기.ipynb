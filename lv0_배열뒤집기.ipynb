{
 "cells": [
  {
   "cell_type": "markdown",
   "metadata": {},
   "source": [
    "## 문제 설명\n",
    "정수가 들어 있는 배열 num_list가 매개변수로 주어집니다. num_list의 원소의 순서를 거꾸로 뒤집은 배열을 return하도록 solution 함수를 완성해주세요.\n",
    "\n",
    "제한사항  \n",
    "1 ≤ num_list의 길이 ≤ 1,000  \n",
    "0 ≤ num_list의 원소 ≤ 1,000"
   ]
  },
  {
   "cell_type": "code",
   "execution_count": null,
   "metadata": {},
   "outputs": [],
   "source": [
    "### 풀이\n",
    "def solution(num_list):\n",
    "    num_list.reverse()\n",
    "    return num_list"
   ]
  },
  {
   "cell_type": "code",
   "execution_count": null,
   "metadata": {},
   "outputs": [],
   "source": [
    "### 다른 사람 풀이\n",
    "def solution(num_list):\n",
    "    return num_list[::-1]"
   ]
  }
 ],
 "metadata": {
  "language_info": {
   "name": "python"
  },
  "orig_nbformat": 4
 },
 "nbformat": 4,
 "nbformat_minor": 2
}
